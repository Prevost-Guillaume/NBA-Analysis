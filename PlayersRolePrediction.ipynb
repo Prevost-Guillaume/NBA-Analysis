{
 "cells": [
  {
   "cell_type": "markdown",
   "metadata": {},
   "source": [
    "# Imports"
   ]
  },
  {
   "cell_type": "code",
   "execution_count": 911,
   "metadata": {},
   "outputs": [],
   "source": [
    "import numpy as np\n",
    "import pandas as pd\n",
    "import matplotlib.pyplot as plt\n",
    "import seaborn as sns\n",
    "import plotly.express as px\n",
    "from sklearn.preprocessing import StandardScaler\n",
    "from sklearn.model_selection import train_test_split\n",
    "from sklearn.tree import DecisionTreeClassifier\n",
    "from sklearn.ensemble import RandomForestClassifier\n",
    "from sklearn.pipeline import make_pipeline\n",
    "from sklearn.feature_selection import SelectKBest, f_classif\n",
    "from sklearn.preprocessing import PolynomialFeatures\n",
    "from sklearn.metrics import confusion_matrix, classification_report\n",
    "from sklearn.model_selection import learning_curve\n",
    "from sklearn.neighbors import KNeighborsClassifier\n",
    "from sklearn.svm import SVC\n",
    "from sklearn.ensemble import RandomForestClassifier\n",
    "from sklearn.linear_model import LogisticRegression\n",
    "from sklearn.model_selection import GridSearchCV, RandomizedSearchCV\n",
    "from sklearn.metrics import precision_recall_curve\n",
    "import warnings\n",
    "warnings.filterwarnings(\"ignore\")"
   ]
  },
  {
   "cell_type": "markdown",
   "metadata": {},
   "source": [
    "# Load the dataset"
   ]
  },
  {
   "cell_type": "code",
   "execution_count": 806,
   "metadata": {},
   "outputs": [],
   "source": [
    "df = pd.read_csv(\"datasets/df_players_merged.csv\")"
   ]
  },
  {
   "cell_type": "code",
   "execution_count": 807,
   "metadata": {},
   "outputs": [
    {
     "data": {
      "text/html": [
       "<div>\n",
       "<style scoped>\n",
       "    .dataframe tbody tr th:only-of-type {\n",
       "        vertical-align: middle;\n",
       "    }\n",
       "\n",
       "    .dataframe tbody tr th {\n",
       "        vertical-align: top;\n",
       "    }\n",
       "\n",
       "    .dataframe thead th {\n",
       "        text-align: right;\n",
       "    }\n",
       "</style>\n",
       "<table border=\"1\" class=\"dataframe\">\n",
       "  <thead>\n",
       "    <tr style=\"text-align: right;\">\n",
       "      <th></th>\n",
       "      <th>Unnamed: 0</th>\n",
       "      <th>PLAYER</th>\n",
       "      <th>TEAM</th>\n",
       "      <th>AGE</th>\n",
       "      <th>GP</th>\n",
       "      <th>W</th>\n",
       "      <th>L</th>\n",
       "      <th>MIN</th>\n",
       "      <th>PTS</th>\n",
       "      <th>FGM</th>\n",
       "      <th>...</th>\n",
       "      <th>%PF</th>\n",
       "      <th>%PFD</th>\n",
       "      <th>%PTS</th>\n",
       "      <th>PDV</th>\n",
       "      <th>Taille</th>\n",
       "      <th>Poids</th>\n",
       "      <th>Exp</th>\n",
       "      <th>Pays</th>\n",
       "      <th>iso_alpha</th>\n",
       "      <th>country</th>\n",
       "    </tr>\n",
       "  </thead>\n",
       "  <tbody>\n",
       "    <tr>\n",
       "      <th>0</th>\n",
       "      <td>0</td>\n",
       "      <td>Kevin Durant</td>\n",
       "      <td>BKN</td>\n",
       "      <td>33</td>\n",
       "      <td>20</td>\n",
       "      <td>14</td>\n",
       "      <td>6</td>\n",
       "      <td>35.8</td>\n",
       "      <td>28.6</td>\n",
       "      <td>10.4</td>\n",
       "      <td>...</td>\n",
       "      <td>10.0</td>\n",
       "      <td>31.8</td>\n",
       "      <td>33.8</td>\n",
       "      <td>F</td>\n",
       "      <td>2.08</td>\n",
       "      <td>108.9</td>\n",
       "      <td>13.0</td>\n",
       "      <td>États-Unis</td>\n",
       "      <td>USA</td>\n",
       "      <td>United States</td>\n",
       "    </tr>\n",
       "    <tr>\n",
       "      <th>1</th>\n",
       "      <td>1</td>\n",
       "      <td>Stephen Curry</td>\n",
       "      <td>GSW</td>\n",
       "      <td>33</td>\n",
       "      <td>20</td>\n",
       "      <td>17</td>\n",
       "      <td>3</td>\n",
       "      <td>34.3</td>\n",
       "      <td>27.8</td>\n",
       "      <td>9.2</td>\n",
       "      <td>...</td>\n",
       "      <td>12.8</td>\n",
       "      <td>25.5</td>\n",
       "      <td>32.8</td>\n",
       "      <td>G</td>\n",
       "      <td>1.88</td>\n",
       "      <td>83.9</td>\n",
       "      <td>12.0</td>\n",
       "      <td>États-Unis</td>\n",
       "      <td>USA</td>\n",
       "      <td>United States</td>\n",
       "    </tr>\n",
       "    <tr>\n",
       "      <th>2</th>\n",
       "      <td>2</td>\n",
       "      <td>Giannis Antetokounmpo</td>\n",
       "      <td>MIL</td>\n",
       "      <td>26</td>\n",
       "      <td>21</td>\n",
       "      <td>14</td>\n",
       "      <td>7</td>\n",
       "      <td>32.7</td>\n",
       "      <td>27.6</td>\n",
       "      <td>9.8</td>\n",
       "      <td>...</td>\n",
       "      <td>24.3</td>\n",
       "      <td>60.0</td>\n",
       "      <td>34.9</td>\n",
       "      <td>F</td>\n",
       "      <td>2.11</td>\n",
       "      <td>109.8</td>\n",
       "      <td>8.0</td>\n",
       "      <td>Grèce</td>\n",
       "      <td>GRC</td>\n",
       "      <td>Greece</td>\n",
       "    </tr>\n",
       "    <tr>\n",
       "      <th>3</th>\n",
       "      <td>3</td>\n",
       "      <td>Trae Young</td>\n",
       "      <td>ATL</td>\n",
       "      <td>23</td>\n",
       "      <td>22</td>\n",
       "      <td>12</td>\n",
       "      <td>10</td>\n",
       "      <td>33.9</td>\n",
       "      <td>26.3</td>\n",
       "      <td>9.3</td>\n",
       "      <td>...</td>\n",
       "      <td>13.6</td>\n",
       "      <td>36.8</td>\n",
       "      <td>32.3</td>\n",
       "      <td>G</td>\n",
       "      <td>1.85</td>\n",
       "      <td>74.4</td>\n",
       "      <td>3.0</td>\n",
       "      <td>États-Unis</td>\n",
       "      <td>USA</td>\n",
       "      <td>United States</td>\n",
       "    </tr>\n",
       "    <tr>\n",
       "      <th>4</th>\n",
       "      <td>4</td>\n",
       "      <td>DeMar DeRozan</td>\n",
       "      <td>CHI</td>\n",
       "      <td>32</td>\n",
       "      <td>23</td>\n",
       "      <td>15</td>\n",
       "      <td>8</td>\n",
       "      <td>35.1</td>\n",
       "      <td>26.3</td>\n",
       "      <td>9.3</td>\n",
       "      <td>...</td>\n",
       "      <td>16.0</td>\n",
       "      <td>43.2</td>\n",
       "      <td>31.9</td>\n",
       "      <td>F</td>\n",
       "      <td>1.98</td>\n",
       "      <td>99.8</td>\n",
       "      <td>12.0</td>\n",
       "      <td>États-Unis</td>\n",
       "      <td>USA</td>\n",
       "      <td>United States</td>\n",
       "    </tr>\n",
       "  </tbody>\n",
       "</table>\n",
       "<p>5 rows × 85 columns</p>\n",
       "</div>"
      ],
      "text/plain": [
       "   Unnamed: 0                 PLAYER TEAM  AGE  GP   W   L   MIN   PTS   FGM  \\\n",
       "0           0           Kevin Durant  BKN   33  20  14   6  35.8  28.6  10.4   \n",
       "1           1          Stephen Curry  GSW   33  20  17   3  34.3  27.8   9.2   \n",
       "2           2  Giannis Antetokounmpo  MIL   26  21  14   7  32.7  27.6   9.8   \n",
       "3           3             Trae Young  ATL   23  22  12  10  33.9  26.3   9.3   \n",
       "4           4          DeMar DeRozan  CHI   32  23  15   8  35.1  26.3   9.3   \n",
       "\n",
       "   ...   %PF  %PFD  %PTS  PDV  Taille  Poids   Exp        Pays  iso_alpha  \\\n",
       "0  ...  10.0  31.8  33.8    F    2.08  108.9  13.0  États-Unis        USA   \n",
       "1  ...  12.8  25.5  32.8    G    1.88   83.9  12.0  États-Unis        USA   \n",
       "2  ...  24.3  60.0  34.9    F    2.11  109.8   8.0       Grèce        GRC   \n",
       "3  ...  13.6  36.8  32.3    G    1.85   74.4   3.0  États-Unis        USA   \n",
       "4  ...  16.0  43.2  31.9    F    1.98   99.8  12.0  États-Unis        USA   \n",
       "\n",
       "         country  \n",
       "0  United States  \n",
       "1  United States  \n",
       "2         Greece  \n",
       "3  United States  \n",
       "4  United States  \n",
       "\n",
       "[5 rows x 85 columns]"
      ]
     },
     "execution_count": 807,
     "metadata": {},
     "output_type": "execute_result"
    }
   ],
   "source": [
    "df.head()"
   ]
  },
  {
   "cell_type": "code",
   "execution_count": 808,
   "metadata": {},
   "outputs": [
    {
     "data": {
      "text/plain": [
       "(460, 85)"
      ]
     },
     "execution_count": 808,
     "metadata": {},
     "output_type": "execute_result"
    }
   ],
   "source": [
    "df.shape"
   ]
  },
  {
   "cell_type": "markdown",
   "metadata": {},
   "source": [
    "# Exploratory Data Analysis"
   ]
  },
  {
   "cell_type": "markdown",
   "metadata": {},
   "source": [
    "### Visualize the target"
   ]
  },
  {
   "cell_type": "markdown",
   "metadata": {},
   "source": [
    "We want to predict the role of a player, let's see which column corresponds to this information"
   ]
  },
  {
   "cell_type": "code",
   "execution_count": 809,
   "metadata": {},
   "outputs": [
    {
     "data": {
      "text/plain": [
       "Index(['Unnamed: 0', 'PLAYER', 'TEAM', 'AGE', 'GP', 'W', 'L', 'MIN', 'PTS',\n",
       "       'FGM', 'FGA', 'FG%', '3PM', '3PA', '3P%', 'FTM', 'FTA', 'FT%', 'OREB',\n",
       "       'DREB', 'REB', 'AST', 'TOV', 'STL', 'BLK', 'PF', 'FP', 'DD2', 'TD3',\n",
       "       '+/-', 'OFFRTG', 'DEFRTG', 'NETRTG', 'AST%', 'AST/TO', 'AST RATIO',\n",
       "       'OREB%', 'DREB%', 'REB%', 'TO RATIO', 'EFG%', 'TS%', 'USG%', 'PACE',\n",
       "       'PIE', 'POSS', '%FGA\\n2PT', '%FGA\\n3PT', '%PTS\\n2PT', '%PTS\\n2PT MR',\n",
       "       '%PTS\\n3PT', '%PTS\\nFBPS', '%PTS\\nFT', '%PTS\\nOFFTO', '%PTS\\nPITP',\n",
       "       '2FGM\\n%AST', '2FGM\\n%UAST', '3FGM\\n%AST', '3FGM\\n%UAST', 'FGM\\n%AST',\n",
       "       'FGM\\n%UAST', '%FGM', '%FGA', '%3PM', '%3PA', '%FTM', '%FTA', '%OREB',\n",
       "       '%DREB', '%REB', '%AST', '%TOV', '%STL', '%BLK', '%BLKA', '%PF', '%PFD',\n",
       "       '%PTS', 'PDV', 'Taille', 'Poids', 'Exp', 'Pays', 'iso_alpha',\n",
       "       'country'],\n",
       "      dtype='object')"
      ]
     },
     "execution_count": 809,
     "metadata": {},
     "output_type": "execute_result"
    }
   ],
   "source": [
    "df.columns"
   ]
  },
  {
   "cell_type": "markdown",
   "metadata": {},
   "source": [
    "After some researchs, we find out that the position of a player is in the column \"PDV\""
   ]
  },
  {
   "cell_type": "code",
   "execution_count": 810,
   "metadata": {},
   "outputs": [],
   "source": [
    "y = df[\"PDV\"]"
   ]
  },
  {
   "cell_type": "code",
   "execution_count": 811,
   "metadata": {},
   "outputs": [
    {
     "data": {
      "text/plain": [
       "<BarContainer object of 3 artists>"
      ]
     },
     "execution_count": 811,
     "metadata": {},
     "output_type": "execute_result"
    },
    {
     "data": {
      "image/png": "[encoded data removed]",
      "text/plain": [
       "<Figure size 432x288 with 1 Axes>"
      ]
     },
     "metadata": {
      "needs_background": "light"
     },
     "output_type": "display_data"
    }
   ],
   "source": [
    "plt.bar(y.unique(),y.value_counts())\n"
   ]
  },
  {
   "cell_type": "markdown",
   "metadata": {},
   "source": [
    "There is 3 types of players : F, G and C.\n",
    "F = forward\n",
    "G = guard\n",
    "C = center\n"
   ]
  },
  {
   "cell_type": "markdown",
   "metadata": {},
   "source": [
    "The dataset is very unbalanced, there are almost no Centers compared to the other positions."
   ]
  },
  {
   "cell_type": "markdown",
   "metadata": {},
   "source": [
    "### Select the features"
   ]
  },
  {
   "cell_type": "markdown",
   "metadata": {},
   "source": [
    "Thanks to the different graphs we have done before (see the PDF and the dashboard in the section Role Analysis), we can select some interesting features to predict the position of a player"
   ]
  },
  {
   "cell_type": "markdown",
   "metadata": {},
   "source": [
    "At this point,we think that we will to predict the role of a player using his height, his weight, and the numbers of 2 points and 3 points shots attempted"
   ]
  },
  {
   "cell_type": "code",
   "execution_count": 812,
   "metadata": {},
   "outputs": [],
   "source": [
    "X = df[[\"Taille\",\"Poids\",\"FGA\",\"3PA\"]]"
   ]
  },
  {
   "cell_type": "code",
   "execution_count": 813,
   "metadata": {},
   "outputs": [
    {
     "data": {
      "text/plain": [
       "Taille    float64\n",
       "Poids     float64\n",
       "FGA       float64\n",
       "3PA       float64\n",
       "dtype: object"
      ]
     },
     "execution_count": 813,
     "metadata": {},
     "output_type": "execute_result"
    }
   ],
   "source": [
    "X.dtypes"
   ]
  },
  {
   "cell_type": "code",
   "execution_count": 814,
   "metadata": {},
   "outputs": [
    {
     "data": {
      "text/plain": [
       "<AxesSubplot:>"
      ]
     },
     "execution_count": 814,
     "metadata": {},
     "output_type": "execute_result"
    },
    {
     "data": {
      "image/png": "[encoded data removed]",
      "text/plain": [
       "<Figure size 432x288 with 1 Axes>"
      ]
     },
     "metadata": {
      "needs_background": "light"
     },
     "output_type": "display_data"
    }
   ],
   "source": [
    "sns.heatmap(X.isna(), cbar=False)"
   ]
  },
  {
   "cell_type": "markdown",
   "metadata": {},
   "source": [
    "We can see that there isn't any missing value in our dataset"
   ]
  },
  {
   "cell_type": "code",
   "execution_count": 815,
   "metadata": {},
   "outputs": [
    {
     "data": {
      "image/png": "[encoded data removed]",
      "text/plain": [
       "<Figure size 432x288 with 1 Axes>"
      ]
     },
     "metadata": {
      "needs_background": "light"
     },
     "output_type": "display_data"
    },
    {
     "data": {
      "image/png": "[encoded data removed]",
      "text/plain": [
       "<Figure size 432x288 with 1 Axes>"
      ]
     },
     "metadata": {
      "needs_background": "light"
     },
     "output_type": "display_data"
    },
    {
     "data": {
      "image/png": "[encoded data removed]",
      "text/plain": [
       "<Figure size 432x288 with 1 Axes>"
      ]
     },
     "metadata": {
      "needs_background": "light"
     },
     "output_type": "display_data"
    },
    {
     "data": {
      "image/png": "[encoded data removed]",
      "text/plain": [
       "<Figure size 432x288 with 1 Axes>"
      ]
     },
     "metadata": {
      "needs_background": "light"
     },
     "output_type": "display_data"
    }
   ],
   "source": [
    "for col in X.select_dtypes('float'):\n",
    "    plt.figure()\n",
    "    sns.distplot(df[col])"
   ]
  },
  {
   "cell_type": "markdown",
   "metadata": {},
   "source": [
    "Our features are not normalized so we wil have to do it in the preprocessing part for a better precision of our model"
   ]
  },
  {
   "cell_type": "code",
   "execution_count": 816,
   "metadata": {},
   "outputs": [
    {
     "data": {
      "text/plain": [
       "10.434782608695652"
      ]
     },
     "execution_count": 816,
     "metadata": {},
     "output_type": "execute_result"
    }
   ],
   "source": [
    "(X[\"3PA\"][X[\"3PA\"]==0].shape[0]/X[\"3PA\"].shape[0])*100"
   ]
  },
  {
   "cell_type": "markdown",
   "metadata": {},
   "source": [
    "10% of the players' 3 points attempts are null"
   ]
  },
  {
   "cell_type": "code",
   "execution_count": 817,
   "metadata": {},
   "outputs": [
    {
     "data": {
      "text/plain": [
       "2.391304347826087"
      ]
     },
     "execution_count": 817,
     "metadata": {},
     "output_type": "execute_result"
    }
   ],
   "source": [
    "(X[\"FGA\"][X[\"FGA\"]==0].shape[0]/X[\"FGA\"].shape[0])*100"
   ]
  },
  {
   "cell_type": "markdown",
   "metadata": {},
   "source": [
    "2% of the players' field goal attempts are null"
   ]
  },
  {
   "cell_type": "markdown",
   "metadata": {},
   "source": [
    "# Preprocessing"
   ]
  },
  {
   "cell_type": "markdown",
   "metadata": {},
   "source": [
    "We will encode the target variable TDV in order to manipulate it more easily\n"
   ]
  },
  {
   "cell_type": "code",
   "execution_count": 818,
   "metadata": {},
   "outputs": [],
   "source": [
    "df[\"PDV\"] = df[\"PDV\"].replace({\"F\":1,\"G\":2,\"C\":3})"
   ]
  },
  {
   "cell_type": "markdown",
   "metadata": {},
   "source": [
    "Now we will balance our dataset in order to visualize the correlation between the features and the target, it means we will select the same amount of Forwards, Guards and Centers."
   ]
  },
  {
   "cell_type": "code",
   "execution_count": 819,
   "metadata": {},
   "outputs": [],
   "source": [
    "df_role1 = df[df[\"PDV\"]==1][:50]\n",
    "df_role2 = df[df[\"PDV\"]==2][:50]\n",
    "df_role3 = df[df[\"PDV\"]==3][:50]\n",
    "df_balanced = pd.concat([df_role1,df_role2,df_role3])"
   ]
  },
  {
   "cell_type": "code",
   "execution_count": 820,
   "metadata": {},
   "outputs": [
    {
     "data": {
      "text/plain": [
       "Unnamed: 0      0.509597\n",
       "GP              0.267021\n",
       "MIN             0.465130\n",
       "PTS             0.510056\n",
       "FGM             0.471490\n",
       "FGA             0.485685\n",
       "FG%             0.220417\n",
       "3PM             0.398845\n",
       "3PA             0.410906\n",
       "3P%             0.211635\n",
       "FTM             0.476297\n",
       "FTA             0.451067\n",
       "FT%             0.295784\n",
       "DREB            0.289959\n",
       "REB             0.202649\n",
       "AST             0.275462\n",
       "TOV             0.303060\n",
       "STL             0.251763\n",
       "FP              0.369772\n",
       "OREB%           0.335032\n",
       "REB%            0.210038\n",
       "TO RATIO        0.325619\n",
       "USG%            0.392042\n",
       "%FGA\\n2PT       0.291819\n",
       "%FGA\\n3PT       0.291819\n",
       "%PTS\\n2PT       0.291756\n",
       "%PTS\\n2PT MR    0.399587\n",
       "%PTS\\n3PT       0.310943\n",
       "%PTS\\nFBPS      0.421408\n",
       "%PTS\\nPITP      0.345430\n",
       "2FGM\\n%AST      0.210610\n",
       "2FGM\\n%UAST     0.245691\n",
       "3FGM\\n%AST      0.204518\n",
       "3FGM\\n%UAST     0.291440\n",
       "%FGM            0.352027\n",
       "%FGA            0.408718\n",
       "%3PM            0.372412\n",
       "%3PA            0.394537\n",
       "%OREB           0.309218\n",
       "%BLK            0.273206\n",
       "%PF             0.311737\n",
       "%PTS            0.422387\n",
       "PDV             1.000000\n",
       "Taille          0.213687\n",
       "Poids           0.227994\n",
       "Name: PDV, dtype: float64"
      ]
     },
     "execution_count": 820,
     "metadata": {},
     "output_type": "execute_result"
    }
   ],
   "source": [
    "abs(df_balanced.corr(method=\"spearman\")[\"PDV\"][abs(df_balanced.corr(method=\"spearman\")[\"PDV\"])>0.2])"
   ]
  },
  {
   "cell_type": "markdown",
   "metadata": {},
   "source": [
    "We can see that the position of a player is quite correlated with the Assists(AST), the Defensive Rebounds(DREB) ,OffensiveRebounds(REB), the Free Throws Made (FTM), the Minutes(MIN),  the Turn Overs(TOV) and the  so we could add theses stats to our dataset to increase the precision (we add the Offensive Rebounds to be in the same idea of the Defensive Rebounds)\n",
    "We won't take others stats because they are high correlated between them (for example Field Goal Attempted and Field Goal Made)\n",
    "We take the Turn Overs stats instead of Minutes because maybe if a player get injuried it could biased our model"
   ]
  },
  {
   "cell_type": "code",
   "execution_count": 821,
   "metadata": {},
   "outputs": [],
   "source": [
    "df = df[[\"TOV\",\"Poids\",\"Taille\",\"%AST\",\"%DREB\",\"%OREB\",\"FGA\",\"3PA\",\"PDV\"]]"
   ]
  },
  {
   "cell_type": "code",
   "execution_count": 822,
   "metadata": {},
   "outputs": [
    {
     "data": {
      "text/html": [
       "<style  type=\"text/css\" >\n",
       "#T_278abf4b_6103_11ec_bbf5_e86f38789986row0_col0,#T_278abf4b_6103_11ec_bbf5_e86f38789986row1_col1,#T_278abf4b_6103_11ec_bbf5_e86f38789986row2_col2,#T_278abf4b_6103_11ec_bbf5_e86f38789986row3_col3,#T_278abf4b_6103_11ec_bbf5_e86f38789986row4_col4,#T_278abf4b_6103_11ec_bbf5_e86f38789986row5_col5,#T_278abf4b_6103_11ec_bbf5_e86f38789986row6_col6,#T_278abf4b_6103_11ec_bbf5_e86f38789986row7_col7,#T_278abf4b_6103_11ec_bbf5_e86f38789986row8_col8{\n",
       "            background-color:  #b40426;\n",
       "            color:  #f1f1f1;\n",
       "        }#T_278abf4b_6103_11ec_bbf5_e86f38789986row0_col1{\n",
       "            background-color:  #86a9fc;\n",
       "            color:  #000000;\n",
       "        }#T_278abf4b_6103_11ec_bbf5_e86f38789986row0_col2{\n",
       "            background-color:  #89acfd;\n",
       "            color:  #000000;\n",
       "        }#T_278abf4b_6103_11ec_bbf5_e86f38789986row0_col3{\n",
       "            background-color:  #f3c7b1;\n",
       "            color:  #000000;\n",
       "        }#T_278abf4b_6103_11ec_bbf5_e86f38789986row0_col4{\n",
       "            background-color:  #9bbcff;\n",
       "            color:  #000000;\n",
       "        }#T_278abf4b_6103_11ec_bbf5_e86f38789986row0_col5{\n",
       "            background-color:  #96b7ff;\n",
       "            color:  #000000;\n",
       "        }#T_278abf4b_6103_11ec_bbf5_e86f38789986row0_col6{\n",
       "            background-color:  #e57058;\n",
       "            color:  #000000;\n",
       "        }#T_278abf4b_6103_11ec_bbf5_e86f38789986row0_col7,#T_278abf4b_6103_11ec_bbf5_e86f38789986row2_col5{\n",
       "            background-color:  #f7b396;\n",
       "            color:  #000000;\n",
       "        }#T_278abf4b_6103_11ec_bbf5_e86f38789986row0_col8{\n",
       "            background-color:  #aec9fc;\n",
       "            color:  #000000;\n",
       "        }#T_278abf4b_6103_11ec_bbf5_e86f38789986row1_col0{\n",
       "            background-color:  #485fd1;\n",
       "            color:  #f1f1f1;\n",
       "        }#T_278abf4b_6103_11ec_bbf5_e86f38789986row1_col2,#T_278abf4b_6103_11ec_bbf5_e86f38789986row7_col6{\n",
       "            background-color:  #e97a5f;\n",
       "            color:  #000000;\n",
       "        }#T_278abf4b_6103_11ec_bbf5_e86f38789986row1_col3{\n",
       "            background-color:  #506bda;\n",
       "            color:  #000000;\n",
       "        }#T_278abf4b_6103_11ec_bbf5_e86f38789986row1_col4{\n",
       "            background-color:  #f2cab5;\n",
       "            color:  #000000;\n",
       "        }#T_278abf4b_6103_11ec_bbf5_e86f38789986row1_col5,#T_278abf4b_6103_11ec_bbf5_e86f38789986row2_col4{\n",
       "            background-color:  #f7ba9f;\n",
       "            color:  #000000;\n",
       "        }#T_278abf4b_6103_11ec_bbf5_e86f38789986row1_col6{\n",
       "            background-color:  #455cce;\n",
       "            color:  #f1f1f1;\n",
       "        }#T_278abf4b_6103_11ec_bbf5_e86f38789986row1_col7{\n",
       "            background-color:  #4c66d6;\n",
       "            color:  #000000;\n",
       "        }#T_278abf4b_6103_11ec_bbf5_e86f38789986row1_col8{\n",
       "            background-color:  #4b64d5;\n",
       "            color:  #f1f1f1;\n",
       "        }#T_278abf4b_6103_11ec_bbf5_e86f38789986row2_col0,#T_278abf4b_6103_11ec_bbf5_e86f38789986row2_col3,#T_278abf4b_6103_11ec_bbf5_e86f38789986row2_col6,#T_278abf4b_6103_11ec_bbf5_e86f38789986row2_col8,#T_278abf4b_6103_11ec_bbf5_e86f38789986row5_col7,#T_278abf4b_6103_11ec_bbf5_e86f38789986row7_col5,#T_278abf4b_6103_11ec_bbf5_e86f38789986row8_col1,#T_278abf4b_6103_11ec_bbf5_e86f38789986row8_col2,#T_278abf4b_6103_11ec_bbf5_e86f38789986row8_col4{\n",
       "            background-color:  #3b4cc0;\n",
       "            color:  #f1f1f1;\n",
       "        }#T_278abf4b_6103_11ec_bbf5_e86f38789986row2_col1{\n",
       "            background-color:  #ec7f63;\n",
       "            color:  #000000;\n",
       "        }#T_278abf4b_6103_11ec_bbf5_e86f38789986row2_col7{\n",
       "            background-color:  #445acc;\n",
       "            color:  #f1f1f1;\n",
       "        }#T_278abf4b_6103_11ec_bbf5_e86f38789986row3_col0{\n",
       "            background-color:  #dbdcde;\n",
       "            color:  #000000;\n",
       "        }#T_278abf4b_6103_11ec_bbf5_e86f38789986row3_col1{\n",
       "            background-color:  #4055c8;\n",
       "            color:  #f1f1f1;\n",
       "        }#T_278abf4b_6103_11ec_bbf5_e86f38789986row3_col2{\n",
       "            background-color:  #3c4ec2;\n",
       "            color:  #f1f1f1;\n",
       "        }#T_278abf4b_6103_11ec_bbf5_e86f38789986row3_col4{\n",
       "            background-color:  #6384eb;\n",
       "            color:  #000000;\n",
       "        }#T_278abf4b_6103_11ec_bbf5_e86f38789986row3_col5{\n",
       "            background-color:  #688aef;\n",
       "            color:  #000000;\n",
       "        }#T_278abf4b_6103_11ec_bbf5_e86f38789986row3_col6{\n",
       "            background-color:  #bfd3f6;\n",
       "            color:  #000000;\n",
       "        }#T_278abf4b_6103_11ec_bbf5_e86f38789986row3_col7{\n",
       "            background-color:  #d2dbe8;\n",
       "            color:  #000000;\n",
       "        }#T_278abf4b_6103_11ec_bbf5_e86f38789986row3_col8{\n",
       "            background-color:  #cad8ef;\n",
       "            color:  #000000;\n",
       "        }#T_278abf4b_6103_11ec_bbf5_e86f38789986row4_col0{\n",
       "            background-color:  #7093f3;\n",
       "            color:  #000000;\n",
       "        }#T_278abf4b_6103_11ec_bbf5_e86f38789986row4_col1{\n",
       "            background-color:  #f5c4ac;\n",
       "            color:  #000000;\n",
       "        }#T_278abf4b_6103_11ec_bbf5_e86f38789986row4_col2,#T_278abf4b_6103_11ec_bbf5_e86f38789986row5_col2{\n",
       "            background-color:  #f7ad90;\n",
       "            color:  #000000;\n",
       "        }#T_278abf4b_6103_11ec_bbf5_e86f38789986row4_col3{\n",
       "            background-color:  #84a7fc;\n",
       "            color:  #000000;\n",
       "        }#T_278abf4b_6103_11ec_bbf5_e86f38789986row4_col5{\n",
       "            background-color:  #f3c8b2;\n",
       "            color:  #000000;\n",
       "        }#T_278abf4b_6103_11ec_bbf5_e86f38789986row4_col6{\n",
       "            background-color:  #5b7ae5;\n",
       "            color:  #000000;\n",
       "        }#T_278abf4b_6103_11ec_bbf5_e86f38789986row4_col7,#T_278abf4b_6103_11ec_bbf5_e86f38789986row8_col6{\n",
       "            background-color:  #5673e0;\n",
       "            color:  #000000;\n",
       "        }#T_278abf4b_6103_11ec_bbf5_e86f38789986row4_col8,#T_278abf4b_6103_11ec_bbf5_e86f38789986row8_col5{\n",
       "            background-color:  #5d7ce6;\n",
       "            color:  #000000;\n",
       "        }#T_278abf4b_6103_11ec_bbf5_e86f38789986row5_col0{\n",
       "            background-color:  #5572df;\n",
       "            color:  #000000;\n",
       "        }#T_278abf4b_6103_11ec_bbf5_e86f38789986row5_col1{\n",
       "            background-color:  #f7bca1;\n",
       "            color:  #000000;\n",
       "        }#T_278abf4b_6103_11ec_bbf5_e86f38789986row5_col3{\n",
       "            background-color:  #7396f5;\n",
       "            color:  #000000;\n",
       "        }#T_278abf4b_6103_11ec_bbf5_e86f38789986row5_col4{\n",
       "            background-color:  #efcfbf;\n",
       "            color:  #000000;\n",
       "        }#T_278abf4b_6103_11ec_bbf5_e86f38789986row5_col6{\n",
       "            background-color:  #3e51c5;\n",
       "            color:  #f1f1f1;\n",
       "        }#T_278abf4b_6103_11ec_bbf5_e86f38789986row5_col8{\n",
       "            background-color:  #6a8bef;\n",
       "            color:  #000000;\n",
       "        }#T_278abf4b_6103_11ec_bbf5_e86f38789986row6_col0{\n",
       "            background-color:  #e67259;\n",
       "            color:  #000000;\n",
       "        }#T_278abf4b_6103_11ec_bbf5_e86f38789986row6_col1{\n",
       "            background-color:  #80a3fa;\n",
       "            color:  #000000;\n",
       "        }#T_278abf4b_6103_11ec_bbf5_e86f38789986row6_col2,#T_278abf4b_6103_11ec_bbf5_e86f38789986row6_col4{\n",
       "            background-color:  #85a8fc;\n",
       "            color:  #000000;\n",
       "        }#T_278abf4b_6103_11ec_bbf5_e86f38789986row6_col3{\n",
       "            background-color:  #e4d9d2;\n",
       "            color:  #000000;\n",
       "        }#T_278abf4b_6103_11ec_bbf5_e86f38789986row6_col5{\n",
       "            background-color:  #7da0f9;\n",
       "            color:  #000000;\n",
       "        }#T_278abf4b_6103_11ec_bbf5_e86f38789986row6_col7{\n",
       "            background-color:  #e26952;\n",
       "            color:  #000000;\n",
       "        }#T_278abf4b_6103_11ec_bbf5_e86f38789986row6_col8{\n",
       "            background-color:  #9ebeff;\n",
       "            color:  #000000;\n",
       "        }#T_278abf4b_6103_11ec_bbf5_e86f38789986row7_col0{\n",
       "            background-color:  #f2cbb7;\n",
       "            color:  #000000;\n",
       "        }#T_278abf4b_6103_11ec_bbf5_e86f38789986row7_col1{\n",
       "            background-color:  #4961d2;\n",
       "            color:  #f1f1f1;\n",
       "        }#T_278abf4b_6103_11ec_bbf5_e86f38789986row7_col2{\n",
       "            background-color:  #516ddb;\n",
       "            color:  #000000;\n",
       "        }#T_278abf4b_6103_11ec_bbf5_e86f38789986row7_col3{\n",
       "            background-color:  #d7dce3;\n",
       "            color:  #000000;\n",
       "        }#T_278abf4b_6103_11ec_bbf5_e86f38789986row7_col4{\n",
       "            background-color:  #4257c9;\n",
       "            color:  #f1f1f1;\n",
       "        }#T_278abf4b_6103_11ec_bbf5_e86f38789986row7_col8{\n",
       "            background-color:  #98b9ff;\n",
       "            color:  #000000;\n",
       "        }#T_278abf4b_6103_11ec_bbf5_e86f38789986row8_col0{\n",
       "            background-color:  #6788ee;\n",
       "            color:  #000000;\n",
       "        }#T_278abf4b_6103_11ec_bbf5_e86f38789986row8_col3{\n",
       "            background-color:  #c9d7f0;\n",
       "            color:  #000000;\n",
       "        }#T_278abf4b_6103_11ec_bbf5_e86f38789986row8_col7{\n",
       "            background-color:  #8caffe;\n",
       "            color:  #000000;\n",
       "        }</style><table id=\"T_278abf4b_6103_11ec_bbf5_e86f38789986\" ><thead>    <tr>        <th class=\"blank level0\" ></th>        <th class=\"col_heading level0 col0\" >TOV</th>        <th class=\"col_heading level0 col1\" >Poids</th>        <th class=\"col_heading level0 col2\" >Taille</th>        <th class=\"col_heading level0 col3\" >%AST</th>        <th class=\"col_heading level0 col4\" >%DREB</th>        <th class=\"col_heading level0 col5\" >%OREB</th>        <th class=\"col_heading level0 col6\" >FGA</th>        <th class=\"col_heading level0 col7\" >3PA</th>        <th class=\"col_heading level0 col8\" >PDV</th>    </tr></thead><tbody>\n",
       "                <tr>\n",
       "                        <th id=\"T_278abf4b_6103_11ec_bbf5_e86f38789986level0_row0\" class=\"row_heading level0 row0\" >TOV</th>\n",
       "                        <td id=\"T_278abf4b_6103_11ec_bbf5_e86f38789986row0_col0\" class=\"data row0 col0\" >1.0</td>\n",
       "                        <td id=\"T_278abf4b_6103_11ec_bbf5_e86f38789986row0_col1\" class=\"data row0 col1\" >-0.0054</td>\n",
       "                        <td id=\"T_278abf4b_6103_11ec_bbf5_e86f38789986row0_col2\" class=\"data row0 col2\" >-0.054</td>\n",
       "                        <td id=\"T_278abf4b_6103_11ec_bbf5_e86f38789986row0_col3\" class=\"data row0 col3\" >0.47</td>\n",
       "                        <td id=\"T_278abf4b_6103_11ec_bbf5_e86f38789986row0_col4\" class=\"data row0 col4\" >0.13</td>\n",
       "                        <td id=\"T_278abf4b_6103_11ec_bbf5_e86f38789986row0_col5\" class=\"data row0 col5\" >0.039</td>\n",
       "                        <td id=\"T_278abf4b_6103_11ec_bbf5_e86f38789986row0_col6\" class=\"data row0 col6\" >0.83</td>\n",
       "                        <td id=\"T_278abf4b_6103_11ec_bbf5_e86f38789986row0_col7\" class=\"data row0 col7\" >0.58</td>\n",
       "                        <td id=\"T_278abf4b_6103_11ec_bbf5_e86f38789986row0_col8\" class=\"data row0 col8\" >0.096</td>\n",
       "            </tr>\n",
       "            <tr>\n",
       "                        <th id=\"T_278abf4b_6103_11ec_bbf5_e86f38789986level0_row1\" class=\"row_heading level0 row1\" >Poids</th>\n",
       "                        <td id=\"T_278abf4b_6103_11ec_bbf5_e86f38789986row1_col0\" class=\"data row1 col0\" >-0.0054</td>\n",
       "                        <td id=\"T_278abf4b_6103_11ec_bbf5_e86f38789986row1_col1\" class=\"data row1 col1\" >1.0</td>\n",
       "                        <td id=\"T_278abf4b_6103_11ec_bbf5_e86f38789986row1_col2\" class=\"data row1 col2\" >0.75</td>\n",
       "                        <td id=\"T_278abf4b_6103_11ec_bbf5_e86f38789986row1_col3\" class=\"data row1 col3\" >-0.28</td>\n",
       "                        <td id=\"T_278abf4b_6103_11ec_bbf5_e86f38789986row1_col4\" class=\"data row1 col4\" >0.51</td>\n",
       "                        <td id=\"T_278abf4b_6103_11ec_bbf5_e86f38789986row1_col5\" class=\"data row1 col5\" >0.54</td>\n",
       "                        <td id=\"T_278abf4b_6103_11ec_bbf5_e86f38789986row1_col6\" class=\"data row1 col6\" >-0.03</td>\n",
       "                        <td id=\"T_278abf4b_6103_11ec_bbf5_e86f38789986row1_col7\" class=\"data row1 col7\" >-0.25</td>\n",
       "                        <td id=\"T_278abf4b_6103_11ec_bbf5_e86f38789986row1_col8\" class=\"data row1 col8\" >-0.31</td>\n",
       "            </tr>\n",
       "            <tr>\n",
       "                        <th id=\"T_278abf4b_6103_11ec_bbf5_e86f38789986level0_row2\" class=\"row_heading level0 row2\" >Taille</th>\n",
       "                        <td id=\"T_278abf4b_6103_11ec_bbf5_e86f38789986row2_col0\" class=\"data row2 col0\" >-0.054</td>\n",
       "                        <td id=\"T_278abf4b_6103_11ec_bbf5_e86f38789986row2_col1\" class=\"data row2 col1\" >0.75</td>\n",
       "                        <td id=\"T_278abf4b_6103_11ec_bbf5_e86f38789986row2_col2\" class=\"data row2 col2\" >1.0</td>\n",
       "                        <td id=\"T_278abf4b_6103_11ec_bbf5_e86f38789986row2_col3\" class=\"data row2 col3\" >-0.38</td>\n",
       "                        <td id=\"T_278abf4b_6103_11ec_bbf5_e86f38789986row2_col4\" class=\"data row2 col4\" >0.58</td>\n",
       "                        <td id=\"T_278abf4b_6103_11ec_bbf5_e86f38789986row2_col5\" class=\"data row2 col5\" >0.58</td>\n",
       "                        <td id=\"T_278abf4b_6103_11ec_bbf5_e86f38789986row2_col6\" class=\"data row2 col6\" >-0.069</td>\n",
       "                        <td id=\"T_278abf4b_6103_11ec_bbf5_e86f38789986row2_col7\" class=\"data row2 col7\" >-0.28</td>\n",
       "                        <td id=\"T_278abf4b_6103_11ec_bbf5_e86f38789986row2_col8\" class=\"data row2 col8\" >-0.39</td>\n",
       "            </tr>\n",
       "            <tr>\n",
       "                        <th id=\"T_278abf4b_6103_11ec_bbf5_e86f38789986level0_row3\" class=\"row_heading level0 row3\" >%AST</th>\n",
       "                        <td id=\"T_278abf4b_6103_11ec_bbf5_e86f38789986row3_col0\" class=\"data row3 col0\" >0.47</td>\n",
       "                        <td id=\"T_278abf4b_6103_11ec_bbf5_e86f38789986row3_col1\" class=\"data row3 col1\" >-0.28</td>\n",
       "                        <td id=\"T_278abf4b_6103_11ec_bbf5_e86f38789986row3_col2\" class=\"data row3 col2\" >-0.38</td>\n",
       "                        <td id=\"T_278abf4b_6103_11ec_bbf5_e86f38789986row3_col3\" class=\"data row3 col3\" >1.0</td>\n",
       "                        <td id=\"T_278abf4b_6103_11ec_bbf5_e86f38789986row3_col4\" class=\"data row3 col4\" >-0.068</td>\n",
       "                        <td id=\"T_278abf4b_6103_11ec_bbf5_e86f38789986row3_col5\" class=\"data row3 col5\" >-0.13</td>\n",
       "                        <td id=\"T_278abf4b_6103_11ec_bbf5_e86f38789986row3_col6\" class=\"data row3 col6\" >0.35</td>\n",
       "                        <td id=\"T_278abf4b_6103_11ec_bbf5_e86f38789986row3_col7\" class=\"data row3 col7\" >0.28</td>\n",
       "                        <td id=\"T_278abf4b_6103_11ec_bbf5_e86f38789986row3_col8\" class=\"data row3 col8\" >0.21</td>\n",
       "            </tr>\n",
       "            <tr>\n",
       "                        <th id=\"T_278abf4b_6103_11ec_bbf5_e86f38789986level0_row4\" class=\"row_heading level0 row4\" >%DREB</th>\n",
       "                        <td id=\"T_278abf4b_6103_11ec_bbf5_e86f38789986row4_col0\" class=\"data row4 col0\" >0.13</td>\n",
       "                        <td id=\"T_278abf4b_6103_11ec_bbf5_e86f38789986row4_col1\" class=\"data row4 col1\" >0.51</td>\n",
       "                        <td id=\"T_278abf4b_6103_11ec_bbf5_e86f38789986row4_col2\" class=\"data row4 col2\" >0.58</td>\n",
       "                        <td id=\"T_278abf4b_6103_11ec_bbf5_e86f38789986row4_col3\" class=\"data row4 col3\" >-0.068</td>\n",
       "                        <td id=\"T_278abf4b_6103_11ec_bbf5_e86f38789986row4_col4\" class=\"data row4 col4\" >1.0</td>\n",
       "                        <td id=\"T_278abf4b_6103_11ec_bbf5_e86f38789986row4_col5\" class=\"data row4 col5\" >0.48</td>\n",
       "                        <td id=\"T_278abf4b_6103_11ec_bbf5_e86f38789986row4_col6\" class=\"data row4 col6\" >0.048</td>\n",
       "                        <td id=\"T_278abf4b_6103_11ec_bbf5_e86f38789986row4_col7\" class=\"data row4 col7\" >-0.2</td>\n",
       "                        <td id=\"T_278abf4b_6103_11ec_bbf5_e86f38789986row4_col8\" class=\"data row4 col8\" >-0.23</td>\n",
       "            </tr>\n",
       "            <tr>\n",
       "                        <th id=\"T_278abf4b_6103_11ec_bbf5_e86f38789986level0_row5\" class=\"row_heading level0 row5\" >%OREB</th>\n",
       "                        <td id=\"T_278abf4b_6103_11ec_bbf5_e86f38789986row5_col0\" class=\"data row5 col0\" >0.039</td>\n",
       "                        <td id=\"T_278abf4b_6103_11ec_bbf5_e86f38789986row5_col1\" class=\"data row5 col1\" >0.54</td>\n",
       "                        <td id=\"T_278abf4b_6103_11ec_bbf5_e86f38789986row5_col2\" class=\"data row5 col2\" >0.58</td>\n",
       "                        <td id=\"T_278abf4b_6103_11ec_bbf5_e86f38789986row5_col3\" class=\"data row5 col3\" >-0.13</td>\n",
       "                        <td id=\"T_278abf4b_6103_11ec_bbf5_e86f38789986row5_col4\" class=\"data row5 col4\" >0.48</td>\n",
       "                        <td id=\"T_278abf4b_6103_11ec_bbf5_e86f38789986row5_col5\" class=\"data row5 col5\" >1.0</td>\n",
       "                        <td id=\"T_278abf4b_6103_11ec_bbf5_e86f38789986row5_col6\" class=\"data row5 col6\" >-0.053</td>\n",
       "                        <td id=\"T_278abf4b_6103_11ec_bbf5_e86f38789986row5_col7\" class=\"data row5 col7\" >-0.33</td>\n",
       "                        <td id=\"T_278abf4b_6103_11ec_bbf5_e86f38789986row5_col8\" class=\"data row5 col8\" >-0.18</td>\n",
       "            </tr>\n",
       "            <tr>\n",
       "                        <th id=\"T_278abf4b_6103_11ec_bbf5_e86f38789986level0_row6\" class=\"row_heading level0 row6\" >FGA</th>\n",
       "                        <td id=\"T_278abf4b_6103_11ec_bbf5_e86f38789986row6_col0\" class=\"data row6 col0\" >0.83</td>\n",
       "                        <td id=\"T_278abf4b_6103_11ec_bbf5_e86f38789986row6_col1\" class=\"data row6 col1\" >-0.03</td>\n",
       "                        <td id=\"T_278abf4b_6103_11ec_bbf5_e86f38789986row6_col2\" class=\"data row6 col2\" >-0.069</td>\n",
       "                        <td id=\"T_278abf4b_6103_11ec_bbf5_e86f38789986row6_col3\" class=\"data row6 col3\" >0.35</td>\n",
       "                        <td id=\"T_278abf4b_6103_11ec_bbf5_e86f38789986row6_col4\" class=\"data row6 col4\" >0.048</td>\n",
       "                        <td id=\"T_278abf4b_6103_11ec_bbf5_e86f38789986row6_col5\" class=\"data row6 col5\" >-0.053</td>\n",
       "                        <td id=\"T_278abf4b_6103_11ec_bbf5_e86f38789986row6_col6\" class=\"data row6 col6\" >1.0</td>\n",
       "                        <td id=\"T_278abf4b_6103_11ec_bbf5_e86f38789986row6_col7\" class=\"data row6 col7\" >0.81</td>\n",
       "                        <td id=\"T_278abf4b_6103_11ec_bbf5_e86f38789986row6_col8\" class=\"data row6 col8\" >0.03</td>\n",
       "            </tr>\n",
       "            <tr>\n",
       "                        <th id=\"T_278abf4b_6103_11ec_bbf5_e86f38789986level0_row7\" class=\"row_heading level0 row7\" >3PA</th>\n",
       "                        <td id=\"T_278abf4b_6103_11ec_bbf5_e86f38789986row7_col0\" class=\"data row7 col0\" >0.58</td>\n",
       "                        <td id=\"T_278abf4b_6103_11ec_bbf5_e86f38789986row7_col1\" class=\"data row7 col1\" >-0.25</td>\n",
       "                        <td id=\"T_278abf4b_6103_11ec_bbf5_e86f38789986row7_col2\" class=\"data row7 col2\" >-0.28</td>\n",
       "                        <td id=\"T_278abf4b_6103_11ec_bbf5_e86f38789986row7_col3\" class=\"data row7 col3\" >0.28</td>\n",
       "                        <td id=\"T_278abf4b_6103_11ec_bbf5_e86f38789986row7_col4\" class=\"data row7 col4\" >-0.2</td>\n",
       "                        <td id=\"T_278abf4b_6103_11ec_bbf5_e86f38789986row7_col5\" class=\"data row7 col5\" >-0.33</td>\n",
       "                        <td id=\"T_278abf4b_6103_11ec_bbf5_e86f38789986row7_col6\" class=\"data row7 col6\" >0.81</td>\n",
       "                        <td id=\"T_278abf4b_6103_11ec_bbf5_e86f38789986row7_col7\" class=\"data row7 col7\" >1.0</td>\n",
       "                        <td id=\"T_278abf4b_6103_11ec_bbf5_e86f38789986row7_col8\" class=\"data row7 col8\" >0.0045</td>\n",
       "            </tr>\n",
       "            <tr>\n",
       "                        <th id=\"T_278abf4b_6103_11ec_bbf5_e86f38789986level0_row8\" class=\"row_heading level0 row8\" >PDV</th>\n",
       "                        <td id=\"T_278abf4b_6103_11ec_bbf5_e86f38789986row8_col0\" class=\"data row8 col0\" >0.096</td>\n",
       "                        <td id=\"T_278abf4b_6103_11ec_bbf5_e86f38789986row8_col1\" class=\"data row8 col1\" >-0.31</td>\n",
       "                        <td id=\"T_278abf4b_6103_11ec_bbf5_e86f38789986row8_col2\" class=\"data row8 col2\" >-0.39</td>\n",
       "                        <td id=\"T_278abf4b_6103_11ec_bbf5_e86f38789986row8_col3\" class=\"data row8 col3\" >0.21</td>\n",
       "                        <td id=\"T_278abf4b_6103_11ec_bbf5_e86f38789986row8_col4\" class=\"data row8 col4\" >-0.23</td>\n",
       "                        <td id=\"T_278abf4b_6103_11ec_bbf5_e86f38789986row8_col5\" class=\"data row8 col5\" >-0.18</td>\n",
       "                        <td id=\"T_278abf4b_6103_11ec_bbf5_e86f38789986row8_col6\" class=\"data row8 col6\" >0.03</td>\n",
       "                        <td id=\"T_278abf4b_6103_11ec_bbf5_e86f38789986row8_col7\" class=\"data row8 col7\" >0.0045</td>\n",
       "                        <td id=\"T_278abf4b_6103_11ec_bbf5_e86f38789986row8_col8\" class=\"data row8 col8\" >1.0</td>\n",
       "            </tr>\n",
       "    </tbody></table>"
      ],
      "text/plain": [
       "<pandas.io.formats.style.Styler at 0x1e09d9eff10>"
      ]
     },
     "execution_count": 822,
     "metadata": {},
     "output_type": "execute_result"
    }
   ],
   "source": [
    "df.corr(method='spearman').style.format(\"{:.2}\").background_gradient(cmap=plt.get_cmap('coolwarm'))"
   ]
  },
  {
   "cell_type": "code",
   "execution_count": 823,
   "metadata": {},
   "outputs": [
    {
     "data": {
      "text/html": [
       "<div>\n",
       "<style scoped>\n",
       "    .dataframe tbody tr th:only-of-type {\n",
       "        vertical-align: middle;\n",
       "    }\n",
       "\n",
       "    .dataframe tbody tr th {\n",
       "        vertical-align: top;\n",
       "    }\n",
       "\n",
       "    .dataframe thead th {\n",
       "        text-align: right;\n",
       "    }\n",
       "</style>\n",
       "<table border=\"1\" class=\"dataframe\">\n",
       "  <thead>\n",
       "    <tr style=\"text-align: right;\">\n",
       "      <th></th>\n",
       "      <th>TOV</th>\n",
       "      <th>Poids</th>\n",
       "      <th>Taille</th>\n",
       "      <th>%AST</th>\n",
       "      <th>%DREB</th>\n",
       "      <th>%OREB</th>\n",
       "      <th>FGA</th>\n",
       "      <th>3PA</th>\n",
       "      <th>PDV</th>\n",
       "    </tr>\n",
       "  </thead>\n",
       "  <tbody>\n",
       "    <tr>\n",
       "      <th>0</th>\n",
       "      <td>3.0</td>\n",
       "      <td>108.9</td>\n",
       "      <td>2.08</td>\n",
       "      <td>27.7</td>\n",
       "      <td>25.5</td>\n",
       "      <td>8.7</td>\n",
       "      <td>19.2</td>\n",
       "      <td>4.8</td>\n",
       "      <td>1</td>\n",
       "    </tr>\n",
       "    <tr>\n",
       "      <th>1</th>\n",
       "      <td>3.2</td>\n",
       "      <td>83.9</td>\n",
       "      <td>1.88</td>\n",
       "      <td>29.6</td>\n",
       "      <td>19.5</td>\n",
       "      <td>7.1</td>\n",
       "      <td>20.3</td>\n",
       "      <td>13.1</td>\n",
       "      <td>2</td>\n",
       "    </tr>\n",
       "    <tr>\n",
       "      <th>2</th>\n",
       "      <td>3.2</td>\n",
       "      <td>109.8</td>\n",
       "      <td>2.11</td>\n",
       "      <td>35.6</td>\n",
       "      <td>36.0</td>\n",
       "      <td>31.0</td>\n",
       "      <td>18.4</td>\n",
       "      <td>4.1</td>\n",
       "      <td>1</td>\n",
       "    </tr>\n",
       "    <tr>\n",
       "      <th>3</th>\n",
       "      <td>3.8</td>\n",
       "      <td>74.4</td>\n",
       "      <td>1.85</td>\n",
       "      <td>52.8</td>\n",
       "      <td>13.1</td>\n",
       "      <td>8.3</td>\n",
       "      <td>19.9</td>\n",
       "      <td>6.9</td>\n",
       "      <td>2</td>\n",
       "    </tr>\n",
       "    <tr>\n",
       "      <th>4</th>\n",
       "      <td>2.0</td>\n",
       "      <td>99.8</td>\n",
       "      <td>1.98</td>\n",
       "      <td>25.1</td>\n",
       "      <td>17.8</td>\n",
       "      <td>10.1</td>\n",
       "      <td>18.8</td>\n",
       "      <td>2.5</td>\n",
       "      <td>1</td>\n",
       "    </tr>\n",
       "  </tbody>\n",
       "</table>\n",
       "</div>"
      ],
      "text/plain": [
       "   TOV  Poids  Taille  %AST  %DREB  %OREB   FGA   3PA  PDV\n",
       "0  3.0  108.9    2.08  27.7   25.5    8.7  19.2   4.8    1\n",
       "1  3.2   83.9    1.88  29.6   19.5    7.1  20.3  13.1    2\n",
       "2  3.2  109.8    2.11  35.6   36.0   31.0  18.4   4.1    1\n",
       "3  3.8   74.4    1.85  52.8   13.1    8.3  19.9   6.9    2\n",
       "4  2.0   99.8    1.98  25.1   17.8   10.1  18.8   2.5    1"
      ]
     },
     "execution_count": 823,
     "metadata": {},
     "output_type": "execute_result"
    }
   ],
   "source": [
    "df.head()"
   ]
  },
  {
   "cell_type": "code",
   "execution_count": 824,
   "metadata": {},
   "outputs": [
    {
     "data": {
      "text/plain": [
       "(460, 9)"
      ]
     },
     "execution_count": 824,
     "metadata": {},
     "output_type": "execute_result"
    }
   ],
   "source": [
    "df.shape"
   ]
  },
  {
   "cell_type": "markdown",
   "metadata": {},
   "source": [
    "Thanks to the EDA and the preprocessing part, we kept 8 interesting features to predict to position of a player"
   ]
  },
  {
   "cell_type": "markdown",
   "metadata": {},
   "source": [
    "Let's create our train and test sets"
   ]
  },
  {
   "cell_type": "code",
   "execution_count": 825,
   "metadata": {},
   "outputs": [],
   "source": [
    "trainset, testset = train_test_split(df,test_size=0.33,random_state=28)"
   ]
  },
  {
   "cell_type": "code",
   "execution_count": 826,
   "metadata": {},
   "outputs": [
    {
     "data": {
      "text/plain": [
       "(308, 9)"
      ]
     },
     "execution_count": 826,
     "metadata": {},
     "output_type": "execute_result"
    }
   ],
   "source": [
    "trainset.shape"
   ]
  },
  {
   "cell_type": "code",
   "execution_count": 827,
   "metadata": {},
   "outputs": [
    {
     "data": {
      "text/plain": [
       "(152, 9)"
      ]
     },
     "execution_count": 827,
     "metadata": {},
     "output_type": "execute_result"
    }
   ],
   "source": [
    "testset.shape"
   ]
  },
  {
   "cell_type": "code",
   "execution_count": 828,
   "metadata": {},
   "outputs": [],
   "source": [
    "y_train = trainset[\"PDV\"]\n",
    "X_train = trainset.drop(\"PDV\",axis=1)\n",
    "y_test = testset[\"PDV\"]\n",
    "X_test = testset.drop(\"PDV\",axis=1)"
   ]
  },
  {
   "cell_type": "code",
   "execution_count": 829,
   "metadata": {},
   "outputs": [
    {
     "data": {
      "text/plain": [
       "1    88\n",
       "2    56\n",
       "3     8\n",
       "Name: PDV, dtype: int64"
      ]
     },
     "execution_count": 829,
     "metadata": {},
     "output_type": "execute_result"
    }
   ],
   "source": [
    "y_test.value_counts()"
   ]
  },
  {
   "cell_type": "code",
   "execution_count": 830,
   "metadata": {},
   "outputs": [
    {
     "data": {
      "text/plain": [
       "1    164\n",
       "2    117\n",
       "3     27\n",
       "Name: PDV, dtype: int64"
      ]
     },
     "execution_count": 830,
     "metadata": {},
     "output_type": "execute_result"
    }
   ],
   "source": [
    "y_train.value_counts()"
   ]
  },
  {
   "cell_type": "markdown",
   "metadata": {},
   "source": [
    "The dataset is unbalanced but if we balanced it by taking the same amount of player for each position, we will lose a lot of training datas. So, we will try to train our model like that"
   ]
  },
  {
   "cell_type": "markdown",
   "metadata": {},
   "source": [
    "# Evaluation Function"
   ]
  },
  {
   "cell_type": "markdown",
   "metadata": {},
   "source": [
    "Let's code a function to evaluate easily the performance of our model\n",
    "We choose to use the accuracy metric, which means that we want to have as much correct answers as possible, which is the best choice for a multiclass problem like that."
   ]
  },
  {
   "cell_type": "code",
   "execution_count": 831,
   "metadata": {},
   "outputs": [],
   "source": [
    "def evaluation(model):\n",
    "    \n",
    "    model.fit(X_train, y_train)\n",
    "    ypred = model.predict(X_test)\n",
    "    \n",
    "    print(confusion_matrix(y_test, ypred))\n",
    "    print(classification_report(y_test, ypred))\n",
    "    \n",
    "    N, train_score, val_score = learning_curve(model, X_train, y_train,\n",
    "                                              cv=2, scoring='accuracy',\n",
    "                                               train_sizes=np.linspace(0.1, 1, 10))\n",
    "    \n",
    "    \n",
    "    plt.figure(figsize=(12, 8))\n",
    "    plt.plot(N, train_score.mean(axis=1), label='train score')\n",
    "    plt.plot(N, val_score.mean(axis=1), label='validation score')\n",
    "    plt.legend()\n",
    "    "
   ]
  },
  {
   "cell_type": "markdown",
   "metadata": {},
   "source": [
    "# Create the model"
   ]
  },
  {
   "cell_type": "code",
   "execution_count": 832,
   "metadata": {},
   "outputs": [],
   "source": [
    "preprocessor = make_pipeline(PolynomialFeatures(2, include_bias=False), SelectKBest(f_classif, k=8))"
   ]
  },
  {
   "cell_type": "code",
   "execution_count": 993,
   "metadata": {},
   "outputs": [],
   "source": [
    "KNN = make_pipeline(preprocessor,StandardScaler(), KNeighborsClassifier())\n",
    "RandomForest = make_pipeline(preprocessor,StandardScaler(), RandomForestClassifier(random_state=0))\n",
    "SVM = make_pipeline(preprocessor, StandardScaler(), SVC(random_state=0))\n",
    "LogisticReg = make_pipeline(preprocessor,StandardScaler(), LogisticRegression(random_state=0))"
   ]
  },
  {
   "cell_type": "code",
   "execution_count": 994,
   "metadata": {},
   "outputs": [],
   "source": [
    "dict_of_models = {'RandomForest': RandomForest,\n",
    "                  'SVM': SVM,\n",
    "                  'KNN': KNN,\n",
    "                  'LogisticReg':LogisticReg\n",
    "                 }"
   ]
  },
  {
   "cell_type": "code",
   "execution_count": 995,
   "metadata": {},
   "outputs": [
    {
     "name": "stdout",
     "output_type": "stream",
     "text": [
      "RandomForest\n",
      "[[76  7  5]\n",
      " [ 5 51  0]\n",
      " [ 2  0  6]]\n",
      "              precision    recall  f1-score   support\n",
      "\n",
      "           1       0.92      0.86      0.89        88\n",
      "           2       0.88      0.91      0.89        56\n",
      "           3       0.55      0.75      0.63         8\n",
      "\n",
      "    accuracy                           0.88       152\n",
      "   macro avg       0.78      0.84      0.81       152\n",
      "weighted avg       0.88      0.88      0.88       152\n",
      "\n",
      "0.875\n",
      "SVM\n",
      "[[81  5  2]\n",
      " [ 7 49  0]\n",
      " [ 5  0  3]]\n",
      "              precision    recall  f1-score   support\n",
      "\n",
      "           1       0.87      0.92      0.90        88\n",
      "           2       0.91      0.88      0.89        56\n",
      "           3       0.60      0.38      0.46         8\n",
      "\n",
      "    accuracy                           0.88       152\n",
      "   macro avg       0.79      0.72      0.75       152\n",
      "weighted avg       0.87      0.88      0.87       152\n",
      "\n",
      "0.875\n",
      "KNN\n",
      "[[73  7  8]\n",
      " [ 6 50  0]\n",
      " [ 3  0  5]]\n",
      "              precision    recall  f1-score   support\n",
      "\n",
      "           1       0.89      0.83      0.86        88\n",
      "           2       0.88      0.89      0.88        56\n",
      "           3       0.38      0.62      0.48         8\n",
      "\n",
      "    accuracy                           0.84       152\n",
      "   macro avg       0.72      0.78      0.74       152\n",
      "weighted avg       0.86      0.84      0.85       152\n",
      "\n",
      "0.8421052631578947\n",
      "LogisticReg\n",
      "[[78  5  5]\n",
      " [ 6 50  0]\n",
      " [ 3  0  5]]\n",
      "              precision    recall  f1-score   support\n",
      "\n",
      "           1       0.90      0.89      0.89        88\n",
      "           2       0.91      0.89      0.90        56\n",
      "           3       0.50      0.62      0.56         8\n",
      "\n",
      "    accuracy                           0.88       152\n",
      "   macro avg       0.77      0.80      0.78       152\n",
      "weighted avg       0.88      0.88      0.88       152\n",
      "\n",
      "0.875\n"
     ]
    },
    {
     "data": {
      "image/png": "[encoded data removed]",
      "text/plain": [
       "<Figure size 864x576 with 1 Axes>"
      ]
     },
     "metadata": {
      "needs_background": "light"
     },
     "output_type": "display_data"
    },
    {
     "data": {
      "image/png": "[encoded data removed]",
      "text/plain": [
       "<Figure size 864x576 with 1 Axes>"
      ]
     },
     "metadata": {
      "needs_background": "light"
     },
     "output_type": "display_data"
    },
    {
     "data": {
      "image/png": "[encoded data removed]",
      "text/plain": [
       "<Figure size 864x576 with 1 Axes>"
      ]
     },
     "metadata": {
      "needs_background": "light"
     },
     "output_type": "display_data"
    },
    {
     "data": {
      "image/png": "[encoded data removed]",
      "text/plain": [
       "<Figure size 864x576 with 1 Axes>"
      ]
     },
     "metadata": {
      "needs_background": "light"
     },
     "output_type": "display_data"
    }
   ],
   "source": [
    "for name, model in dict_of_models.items():\n",
    "    print(name)\n",
    "    evaluation(model)\n",
    "    print(model.score(X_test,y_test))"
   ]
  },
  {
   "cell_type": "markdown",
   "metadata": {},
   "source": [
    "We will try to optimise the performance of the RandomForest model, because if we manage to reduce the overfitting we could reach a really high score.\n",
    "We will optimize the LogisticRegression too, as the curves seems to be promising (no overfitting compared to the RandomForest model)."
   ]
  },
  {
   "cell_type": "markdown",
   "metadata": {},
   "source": [
    "# Optimization"
   ]
  },
  {
   "cell_type": "code",
   "execution_count": 836,
   "metadata": {},
   "outputs": [
    {
     "data": {
      "text/plain": [
       "1    164\n",
       "2    117\n",
       "3     27\n",
       "Name: PDV, dtype: int64"
      ]
     },
     "execution_count": 836,
     "metadata": {},
     "output_type": "execute_result"
    }
   ],
   "source": [
    "trainset[\"PDV\"].value_counts()"
   ]
  },
  {
   "cell_type": "markdown",
   "metadata": {},
   "source": [
    "### Let's optimize the RandomForest model"
   ]
  },
  {
   "cell_type": "code",
   "execution_count": 792,
   "metadata": {},
   "outputs": [
    {
     "data": {
      "text/plain": [
       "dict_keys(['memory', 'steps', 'verbose', 'pipeline', 'standardscaler', 'randomforestclassifier', 'pipeline__memory', 'pipeline__steps', 'pipeline__verbose', 'pipeline__polynomialfeatures', 'pipeline__selectkbest', 'pipeline__polynomialfeatures__degree', 'pipeline__polynomialfeatures__include_bias', 'pipeline__polynomialfeatures__interaction_only', 'pipeline__polynomialfeatures__order', 'pipeline__selectkbest__k', 'pipeline__selectkbest__score_func', 'standardscaler__copy', 'standardscaler__with_mean', 'standardscaler__with_std', 'randomforestclassifier__bootstrap', 'randomforestclassifier__ccp_alpha', 'randomforestclassifier__class_weight', 'randomforestclassifier__criterion', 'randomforestclassifier__max_depth', 'randomforestclassifier__max_features', 'randomforestclassifier__max_leaf_nodes', 'randomforestclassifier__max_samples', 'randomforestclassifier__min_impurity_decrease', 'randomforestclassifier__min_impurity_split', 'randomforestclassifier__min_samples_leaf', 'randomforestclassifier__min_samples_split', 'randomforestclassifier__min_weight_fraction_leaf', 'randomforestclassifier__n_estimators', 'randomforestclassifier__n_jobs', 'randomforestclassifier__oob_score', 'randomforestclassifier__random_state', 'randomforestclassifier__verbose', 'randomforestclassifier__warm_start'])"
      ]
     },
     "execution_count": 792,
     "metadata": {},
     "output_type": "execute_result"
    }
   ],
   "source": [
    "RandomForest.get_params().keys()"
   ]
  },
  {
   "cell_type": "code",
   "execution_count": 996,
   "metadata": {},
   "outputs": [],
   "source": [
    "hyper_params = {'randomforestclassifier__criterion':[\"gini\",\"entropy\"],\n",
    "               'pipeline__polynomialfeatures__degree':[1,2,3,4],\n",
    "                'randomforestclassifier__n_estimators':range(40,70),\n",
    "                'randomforestclassifier__random_state':range(10),\n",
    "                \n",
    "               }"
   ]
  },
  {
   "cell_type": "code",
   "execution_count": 997,
   "metadata": {},
   "outputs": [
    {
     "name": "stdout",
     "output_type": "stream",
     "text": [
      "{'randomforestclassifier__random_state': 9}\n",
      "              precision    recall  f1-score   support\n",
      "\n",
      "           1       0.93      0.91      0.92        88\n",
      "           2       0.93      0.91      0.92        56\n",
      "           3       0.64      0.88      0.74         8\n",
      "\n",
      "    accuracy                           0.91       152\n",
      "   macro avg       0.83      0.90      0.86       152\n",
      "weighted avg       0.91      0.91      0.91       152\n",
      "\n",
      "[[80  4  4]\n",
      " [ 5 51  0]\n",
      " [ 1  0  7]]\n"
     ]
    }
   ],
   "source": [
    "grid = RandomizedSearchCV(RandomForest, hyper_params, scoring='accuracy', cv=2,\n",
    "                          n_iter=100)\n",
    "\n",
    "grid.fit(X_train, y_train)\n",
    "\n",
    "print(grid.best_params_)\n",
    "\n",
    "y_pred = grid.predict(X_test)\n",
    "\n",
    "print(classification_report(y_test, y_pred))\n",
    "print(confusion_matrix(y_test, y_pred))"
   ]
  },
  {
   "cell_type": "markdown",
   "metadata": {},
   "source": [
    "We had an accuracy of 88% before tuning the hyperparameters, and now we have an accuracy of 91%, which is a good increase because it's hard to increase the precision of a model when the precision is already high like here."
   ]
  },
  {
   "cell_type": "code",
   "execution_count": 443,
   "metadata": {},
   "outputs": [
    {
     "data": {
      "text/plain": [
       "<matplotlib.legend.Legend at 0x1e0a057c2b0>"
      ]
     },
     "execution_count": 443,
     "metadata": {},
     "output_type": "execute_result"
    },
    {
     "data": {
      "image/png": "[encoded data removed]",
      "text/plain": [
       "<Figure size 864x576 with 1 Axes>"
      ]
     },
     "metadata": {
      "needs_background": "light"
     },
     "output_type": "display_data"
    }
   ],
   "source": [
    "N, train_score, val_score = learning_curve(grid, X_train, y_train,\n",
    "                                              cv=3, scoring='accuracy',\n",
    "                                               train_sizes=np.linspace(0.1, 1, 10))\n",
    "    \n",
    "    \n",
    "plt.figure(figsize=(12, 8))\n",
    "plt.plot(N, train_score.mean(axis=1), label='train score')\n",
    "plt.plot(N, val_score.mean(axis=1), label='validation score')\n",
    "plt.legend()"
   ]
  },
  {
   "cell_type": "markdown",
   "metadata": {},
   "source": [
    "We can see with the train/validation curves that are our model is overfitting.\n",
    "But we can see that the training curve starts to decrease, and the validation curve keeps increasing, so with more datas we could increase even more the score."
   ]
  },
  {
   "cell_type": "markdown",
   "metadata": {},
   "source": [
    "### Let's optimize the LogisticRegression model"
   ]
  },
  {
   "cell_type": "code",
   "execution_count": 731,
   "metadata": {},
   "outputs": [
    {
     "data": {
      "text/plain": [
       "dict_keys(['memory', 'steps', 'verbose', 'pipeline', 'standardscaler', 'logisticregression', 'pipeline__memory', 'pipeline__steps', 'pipeline__verbose', 'pipeline__polynomialfeatures', 'pipeline__selectkbest', 'pipeline__polynomialfeatures__degree', 'pipeline__polynomialfeatures__include_bias', 'pipeline__polynomialfeatures__interaction_only', 'pipeline__polynomialfeatures__order', 'pipeline__selectkbest__k', 'pipeline__selectkbest__score_func', 'standardscaler__copy', 'standardscaler__with_mean', 'standardscaler__with_std', 'logisticregression__C', 'logisticregression__class_weight', 'logisticregression__dual', 'logisticregression__fit_intercept', 'logisticregression__intercept_scaling', 'logisticregression__l1_ratio', 'logisticregression__max_iter', 'logisticregression__multi_class', 'logisticregression__n_jobs', 'logisticregression__penalty', 'logisticregression__random_state', 'logisticregression__solver', 'logisticregression__tol', 'logisticregression__verbose', 'logisticregression__warm_start'])"
      ]
     },
     "execution_count": 731,
     "metadata": {},
     "output_type": "execute_result"
    }
   ],
   "source": [
    "LogisticReg.get_params().keys()"
   ]
  },
  {
   "cell_type": "code",
   "execution_count": 932,
   "metadata": {},
   "outputs": [],
   "source": [
    "hyper_params = {\n",
    "               'pipeline__polynomialfeatures__degree':[1,2,3,4,5,6,7,8],\n",
    "                'logisticregression__penalty':['l2',\"l1\",\"elasticnet\",\"none\"],\n",
    "                'logisticregression__C':range(1,50),\n",
    "                'logisticregression__tol':[0.0001,0.001,0.01,0.1],\n",
    "                'logisticregression__solver':[\"newton_cg\",\"sag\",\"saga\",\"liblinear\"]\n",
    "               }"
   ]
  },
  {
   "cell_type": "code",
   "execution_count": 933,
   "metadata": {},
   "outputs": [
    {
     "name": "stdout",
     "output_type": "stream",
     "text": [
      "{'pipeline__polynomialfeatures__degree': 6, 'logisticregression__tol': 0.01, 'logisticregression__solver': 'sag', 'logisticregression__penalty': 'l2', 'logisticregression__C': 15}\n",
      "              precision    recall  f1-score   support\n",
      "\n",
      "           1       0.90      0.90      0.90        88\n",
      "           2       0.91      0.91      0.91        56\n",
      "           3       0.50      0.50      0.50         8\n",
      "\n",
      "    accuracy                           0.88       152\n",
      "   macro avg       0.77      0.77      0.77       152\n",
      "weighted avg       0.88      0.88      0.88       152\n",
      "\n",
      "[[79  5  4]\n",
      " [ 5 51  0]\n",
      " [ 4  0  4]]\n"
     ]
    }
   ],
   "source": [
    "grid = RandomizedSearchCV(LogisticReg, hyper_params, scoring='accuracy', cv=2,\n",
    "                          n_iter=100)\n",
    "\n",
    "grid.fit(X_train, y_train)\n",
    "\n",
    "print(grid.best_params_)\n",
    "\n",
    "y_pred = grid.predict(X_test)\n",
    "\n",
    "print(classification_report(y_test, y_pred))\n",
    "print(confusion_matrix(y_test, y_pred))"
   ]
  },
  {
   "cell_type": "code",
   "execution_count": 936,
   "metadata": {},
   "outputs": [
    {
     "data": {
      "text/plain": [
       "<matplotlib.legend.Legend at 0x1e0a00a8700>"
      ]
     },
     "execution_count": 936,
     "metadata": {},
     "output_type": "execute_result"
    },
    {
     "data": {
      "image/png": "[encoded data removed]",
      "text/plain": [
       "<Figure size 864x576 with 1 Axes>"
      ]
     },
     "metadata": {
      "needs_background": "light"
     },
     "output_type": "display_data"
    }
   ],
   "source": [
    "N, train_score, val_score = learning_curve(grid, X_train, y_train,\n",
    "                                              cv=3, scoring='accuracy',\n",
    "                                               train_sizes=np.linspace(0.1, 1, 10))\n",
    "    \n",
    "    \n",
    "plt.figure(figsize=(12, 8))\n",
    "plt.plot(N, train_score.mean(axis=1), label='train score')\n",
    "plt.plot(N, val_score.mean(axis=1), label='validation score')\n",
    "plt.legend()"
   ]
  },
  {
   "cell_type": "markdown",
   "metadata": {},
   "source": [
    "The results are interesting but are not better than the first model, the RandomForest, so will keep the first one."
   ]
  },
  {
   "cell_type": "markdown",
   "metadata": {},
   "source": [
    "### Best model"
   ]
  },
  {
   "cell_type": "markdown",
   "metadata": {},
   "source": [
    "Finally we saved one of the RandomForest model we managed to optimize with the RandomizedSearchCV, who gives a 95% accuracy which is really high"
   ]
  },
  {
   "cell_type": "code",
   "execution_count": 999,
   "metadata": {},
   "outputs": [
    {
     "name": "stdout",
     "output_type": "stream",
     "text": [
      "              precision    recall  f1-score   support\n",
      "\n",
      "           1       1.00      0.90      0.95        88\n",
      "           2       0.89      1.00      0.94        56\n",
      "           3       0.80      1.00      0.89         8\n",
      "\n",
      "    accuracy                           0.94       152\n",
      "   macro avg       0.90      0.97      0.93       152\n",
      "weighted avg       0.95      0.94      0.94       152\n",
      "\n",
      "[[79  7  2]\n",
      " [ 0 56  0]\n",
      " [ 0  0  8]]\n"
     ]
    }
   ],
   "source": [
    "y_pred = best_model.predict(X_test)\n",
    "\n",
    "print(classification_report(y_test, y_pred))\n",
    "print(confusion_matrix(y_test, y_pred))"
   ]
  },
  {
   "cell_type": "markdown",
   "metadata": {},
   "source": [
    "We can see that this model is very precise, he did no error on the predictions of the position Forwards and Centers."
   ]
  },
  {
   "cell_type": "code",
   "execution_count": 937,
   "metadata": {},
   "outputs": [
    {
     "data": {
      "text/plain": [
       "<matplotlib.legend.Legend at 0x1e09da00070>"
      ]
     },
     "execution_count": 937,
     "metadata": {},
     "output_type": "execute_result"
    },
    {
     "data": {
      "image/png": "[encoded data removed]",
      "text/plain": [
       "<Figure size 864x576 with 1 Axes>"
      ]
     },
     "metadata": {
      "needs_background": "light"
     },
     "output_type": "display_data"
    }
   ],
   "source": [
    "N, train_score, val_score = learning_curve(best_model, X_train, y_train,\n",
    "                                              cv=3, scoring='accuracy',\n",
    "                                               train_sizes=np.linspace(0.1, 1, 10))\n",
    "    \n",
    "    \n",
    "plt.figure(figsize=(12, 8))\n",
    "plt.plot(N, train_score.mean(axis=1), label='train score')\n",
    "plt.plot(N, val_score.mean(axis=1), label='validation score')\n",
    "plt.legend()"
   ]
  },
  {
   "cell_type": "markdown",
   "metadata": {},
   "source": [
    "# Conclusion"
   ]
  },
  {
   "cell_type": "markdown",
   "metadata": {},
   "source": [
    "Finally we managed to reach a really good accuracy of 94%. We could probably increase this score even more if we had more datas especially for the \"Centers\". We can see that the model is overfitting so with more datas we would have been able to solve this problem."
   ]
  },
  {
   "cell_type": "code",
   "execution_count": null,
   "metadata": {},
   "outputs": [],
   "source": []
  }
 ],
 "metadata": {
  "kernelspec": {
   "display_name": "Python 3",
   "language": "python",
   "name": "python3"
  },
  "language_info": {
   "codemirror_mode": {
    "name": "ipython",
    "version": 3
   },
   "file_extension": ".py",
   "mimetype": "text/x-python",
   "name": "python",
   "nbconvert_exporter": "python",
   "pygments_lexer": "ipython3",
   "version": "3.8.5"
  }
 },
 "nbformat": 4,
 "nbformat_minor": 4
}
